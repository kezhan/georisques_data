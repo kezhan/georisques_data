{
 "cells": [
  {
   "cell_type": "code",
   "execution_count": 11,
   "id": "9ce1ab69",
   "metadata": {},
   "outputs": [],
   "source": [
    "import folium\n",
    "import os\n",
    "#os.chdir(r\"\\\\Ouranos\\Services\\IARD\\DBS\\DATA_BI\\STATS_IARDT\\ANALYTICS\\0-OUTILS\\Nat Cat Alerting\")\n",
    "user = 'ezano'\n",
    "from datetime import datetime, timedelta\n",
    "import win32com.client\n",
    "import re\n",
    "import webbrowser\n",
    "from zipfile import ZipFile\n",
    "import requests\n",
    "import os\n",
    "import shutil\n",
    "import os\n",
    "import zipfile\n",
    "import time"
   ]
  },
  {
   "cell_type": "markdown",
   "id": "acdcd664",
   "metadata": {},
   "source": [
    "# Liste des départements en France métropolitaine"
   ]
  },
  {
   "cell_type": "code",
   "execution_count": 12,
   "id": "eaa439e7",
   "metadata": {},
   "outputs": [],
   "source": [
    "\n",
    "departements_metropole = [\n",
    "    \"01\", \"02\", \"03\", \"04\", \"05\", \"06\", \"07\", \"08\", \"09\", \"10\",\n",
    "    \"11\", \"12\", \"13\", \"14\", \"15\", \"16\", \"17\", \"18\", \"19\", \"20\",\n",
    "    \"21\", \"22\", \"23\", \"24\", \"25\", \"26\", \"27\", \"28\", \"29\", \"30\",\n",
    "    \"31\", \"32\", \"33\", \"34\", \"35\", \"36\", \"37\", \"38\", \"39\", \"40\",\n",
    "    \"41\", \"42\", \"43\", \"44\", \"45\", \"46\", \"47\", \"48\", \"49\", \"50\",\n",
    "    \"51\", \"52\", \"53\", \"54\", \"55\", \"56\", \"57\", \"58\", \"59\", \"60\",\n",
    "    \"61\", \"62\", \"63\", \"64\", \"65\", \"66\", \"67\", \"68\", \"69\", \"70\",\n",
    "    \"71\", \"72\", \"73\", \"74\", \"75\", \"76\", \"77\", \"78\", \"79\", \"80\",\n",
    "    \"81\", \"82\", \"83\", \"84\", \"85\", \"86\", \"87\", \"88\", \"89\", \"90\",\n",
    "    \"91\", \"92\", \"93\", \"94\", \"95\"\n",
    "]\n",
    "\n",
    "# Liste des départements et régions d'outre-mer (DROM)\n",
    "departements_drom = [\"971\", \"972\", \"973\", \"974\", \"976\"]\n",
    "\n",
    "# Liste complète des départements\n",
    "liste_departements = departements_metropole + departements_drom\n",
    "\n",
    "annees = [\"2019\",\"2020\",\"2021\",\"2022\",\"2023\"]\n",
    "\n",
    "\n"
   ]
  },
  {
   "cell_type": "markdown",
   "id": "982929ba",
   "metadata": {},
   "source": [
    "# URL \n",
    "chemin du risque (exemple ci _dessous)"
   ]
  },
  {
   "cell_type": "code",
   "execution_count": null,
   "id": "23c65b25",
   "metadata": {},
   "outputs": [],
   "source": [
    "url_inondation = f\"https://files.georisques.fr/di_2020/tri_2020_sig_di_{dep_}.zip\"\n",
    "url_eolien =fr\"https://files.georisques.fr/bdeole/production/csv/eolien_dept{dep_}.zip\"\n",
    "url_inondation_par_remontee_nappes = fr\"https://files.georisques.fr/REMNAPPES/Dept_{dep_}.zip\"\n",
    "installation_industrielle_polluant = fr\"https://files.georisques.fr/irep/{annee}.zip\"\n",
    "inventaire_de_cavite = fr\"https://www.georisques.gouv.fr/webappReport/ws/cavites/departements/{dep_}/fiches.csv?\"\n",
    "mvt_terrain = fr\"https://www.georisques.gouv.fr/webappReport/ws/mvmt/departements/{dep_}/fichecommunes.csv?\"\n",
    "obligation_legale_debrousaillement = fr\"https://files.georisques.fr/old_feu/{dep_}.zip\""
   ]
  },
  {
   "cell_type": "markdown",
   "id": "300acd28",
   "metadata": {},
   "source": [
    "# Fonction\n",
    "- nom_dossier : définir le nom du dossier dans lequel vous souhaiter ranger les fichiers zippés\n",
    "- mettre l'url dans la fonction "
   ]
  },
  {
   "cell_type": "code",
   "execution_count": 17,
   "id": "751a6e9a",
   "metadata": {},
   "outputs": [],
   "source": [
    "\n",
    "nom_dossier = \"\"# le dossier dans lequel vous souhaiter ranger les sous dossier  \n",
    "def teléchargement(liste_dep,nom_dossier,user_):\n",
    "    dossier_destination = fr\"C:\\Users\\{user_}\\Downloads\\{nom_dossier}\"\n",
    "    if not os.path.exists(dossier_destination):\n",
    "            os.makedirs(dossier_destination)\n",
    "    for dep_ in liste_dep:\n",
    "            try : \n",
    "                url_ = fr\"https://files.georisques.fr/di_2020/tri_2020_sig_di_{dep_}.zip\"#exemple d'url\n",
    "                webbrowser.open(url_)\n",
    "                # Spécifiez le chemin complet du dossier zippé à déplacer\n",
    "                nom_fichier = os.path.basename(url_)\n",
    "                print(nom_fichier)\n",
    "                time.sleep(10)\n",
    "                dossier_zippe_source = fr\"C:\\Users\\{user_}\\Downloads\\{nom_fichier}\"\n",
    "                # Spécifiez le chemin complet de l'emplacement de destination\n",
    "                # Utlisez la fonction shutil.move pour déplacer le dossier zippé vers l'emplacement de destination\n",
    "             \n",
    "                shutil.move(dossier_zippe_source, dossier_destination)\n",
    "         \n",
    "                print(f\"Le fichier {nom_fichier} a été dézippé avec succès.\")\n",
    "            except Exception as e :\n",
    "                print(e)\n",
    "                pass\n",
    "    "
   ]
  },
  {
   "cell_type": "code",
   "execution_count": 18,
   "id": "beff6dfa",
   "metadata": {},
   "outputs": [
    {
     "name": "stdout",
     "output_type": "stream",
     "text": [
      "tri_2020_sig_di_01.zip\n",
      "1\n",
      "2\n",
      "Le fichier tri_2020_sig_di_01.zip a été dézippé avec succès.\n",
      "tri_2020_sig_di_02.zip\n",
      "1\n",
      "2\n",
      "Le fichier tri_2020_sig_di_02.zip a été dézippé avec succès.\n"
     ]
    }
   ],
   "source": [
    "teléchargement(list_,nom_dossier,\"ezano\")"
   ]
  },
  {
   "cell_type": "code",
   "execution_count": 23,
   "id": "e7076052",
   "metadata": {},
   "outputs": [],
   "source": [
    "import os\n",
    "import requests\n",
    "import shutil\n",
    "\n",
    "#liste_dep = [\"2020\"], si ce sont des fichiers csv par année et par departement \n",
    "nom_dossier = \"test\"\n",
    "user_ = \"ezano\"\n",
    "\n",
    "def telechargement(liste_dep, nom_dossier, user_):\n",
    "    dossier_destination = fr\"C:\\Users\\{user_}\\Downloads\\{nom_dossier}\"\n",
    "    if not os.path.exists(dossier_destination):\n",
    "        os.makedirs(dossier_destination)\n",
    "    for dep_ in liste_dep:\n",
    "        try: \n",
    "            url_ = fr\"https://www.georisques.gouv.fr/webappReport/ws/mvmt/departements/{dep_}/fichecommunes.csv\"\n",
    "            \n",
    "            # Obtenir le contenu du fichier CSV depuis l'URL\n",
    "            response = requests.get(url_)\n",
    "            \n",
    "            # Vérifier si la réponse est réussie (code HTTP 200)\n",
    "            if response.status_code == 200:\n",
    "                # Spécifiez le nom de fichier que vous souhaitez dans le dossier de destination\n",
    "                nom_fichier_destination = os.path.join(dossier_destination, f\"nouveau_nom_{dep_}.csv\")\n",
    "                \n",
    "                # Écrire le contenu du fichier téléchargé dans le fichier local avec le nouveau nom\n",
    "                with open(nom_fichier_destination, 'wb') as fichier_local:\n",
    "                    fichier_local.write(response.content)\n",
    "                \n",
    "                print(f\"Le fichier {nom_fichier_destination} a été téléchargé avec succès.\")\n",
    "            else:\n",
    "                print(f\"Échec du téléchargement pour {url_}\")\n",
    "        \n",
    "        except Exception as e:\n",
    "            print(e)\n",
    "            pass\n",
    "\n"
   ]
  },
  {
   "cell_type": "code",
   "execution_count": 24,
   "id": "635da5f1",
   "metadata": {
    "collapsed": true
   },
   "outputs": [
    {
     "name": "stdout",
     "output_type": "stream",
     "text": [
      "HTTPSConnectionPool(host='www.georisques.gouv.fr', port=443): Max retries exceeded with url: /webappReport/ws/mvmt/departements/2020/fichecommunes.csv (Caused by NewConnectionError('<urllib3.connection.HTTPSConnection object at 0x0000025E230B62B0>: Failed to establish a new connection: [WinError 10060] Une tentative de connexion a échoué car le parti connecté n’a pas répondu convenablement au-delà d’une certaine durée ou une connexion établie a échoué car l’hôte de connexion n’a pas répondu'))\n"
     ]
    }
   ],
   "source": [
    "# Exemple d'utilisation de la fonction\n",
    "liste_departements = [\"2020\"]\n",
    "nom_dossier = \"test\"\n",
    "user_name = \"ezano\"\n",
    "telechargement(liste_departements, nom_dossier, user_name)"
   ]
  },
  {
   "cell_type": "markdown",
   "id": "72c848cb",
   "metadata": {},
   "source": [
    "# DEZIPP"
   ]
  },
  {
   "cell_type": "code",
   "execution_count": 5,
   "id": "bfe54346",
   "metadata": {
    "collapsed": true
   },
   "outputs": [
    {
     "name": "stdout",
     "output_type": "stream",
     "text": [
      "Le fichier tri_2020_sig_di_01.zip a été dézippé avec succès.\n",
      "Le fichier tri_2020_sig_di_02.zip a été dézippé avec succès.\n",
      "Le fichier tri_2020_sig_di_03.zip a été dézippé avec succès.\n",
      "Le fichier tri_2020_sig_di_06.zip a été dézippé avec succès.\n",
      "Le fichier tri_2020_sig_di_07.zip a été dézippé avec succès.\n",
      "Le fichier tri_2020_sig_di_08.zip a été dézippé avec succès.\n",
      "Le fichier tri_2020_sig_di_10.zip a été dézippé avec succès.\n",
      "Le fichier tri_2020_sig_di_11.zip a été dézippé avec succès.\n",
      "Le fichier tri_2020_sig_di_13.zip a été dézippé avec succès.\n",
      "Le fichier tri_2020_sig_di_14.zip a été dézippé avec succès.\n",
      "Le fichier tri_2020_sig_di_16.zip a été dézippé avec succès.\n",
      "Le fichier tri_2020_sig_di_17.zip a été dézippé avec succès.\n",
      "Le fichier tri_2020_sig_di_18.zip a été dézippé avec succès.\n",
      "Le fichier tri_2020_sig_di_19.zip a été dézippé avec succès.\n",
      "Le fichier tri_2020_sig_di_21.zip a été dézippé avec succès.\n",
      "Le fichier tri_2020_sig_di_24.zip a été dézippé avec succès.\n",
      "Le fichier tri_2020_sig_di_47.zip a été dézippé avec succès.\n",
      "Le fichier tri_2020_sig_di_48.zip a été dézippé avec succès.\n",
      "Le fichier tri_2020_sig_di_49.zip a été dézippé avec succès.\n",
      "Le fichier tri_2020_sig_di_50.zip a été dézippé avec succès.\n",
      "Le fichier tri_2020_sig_di_51.zip a été dézippé avec succès.\n",
      "Le fichier tri_2020_sig_di_52.zip a été dézippé avec succès.\n",
      "Le fichier tri_2020_sig_di_63.zip a été dézippé avec succès.\n",
      "Le fichier tri_2020_sig_di_66.zip a été dézippé avec succès.\n",
      "Le fichier tri_2020_sig_di_67.zip a été dézippé avec succès.\n",
      "Le fichier tri_2020_sig_di_68.zip a été dézippé avec succès.\n",
      "Le fichier tri_2020_sig_di_69.zip a été dézippé avec succès.\n",
      "Le fichier tri_2020_sig_di_71.zip a été dézippé avec succès.\n",
      "Le fichier tri_2020_sig_di_72.zip a été dézippé avec succès.\n",
      "Le fichier tri_2020_sig_di_73.zip a été dézippé avec succès.\n",
      "Le fichier tri_2020_sig_di_74.zip a été dézippé avec succès.\n",
      "Le fichier tri_2020_sig_di_75.zip a été dézippé avec succès.\n",
      "Le fichier tri_2020_sig_di_76.zip a été dézippé avec succès.\n",
      "Le fichier tri_2020_sig_di_77.zip a été dézippé avec succès.\n",
      "Le fichier tri_2020_sig_di_78.zip a été dézippé avec succès.\n",
      "Le fichier tri_2020_sig_di_80.zip a été dézippé avec succès.\n",
      "Le fichier tri_2020_sig_di_81.zip a été dézippé avec succès.\n",
      "Le fichier tri_2020_sig_di_82.zip a été dézippé avec succès.\n",
      "Le fichier tri_2020_sig_di_83.zip a été dézippé avec succès.\n",
      "Le fichier tri_2020_sig_di_84.zip a été dézippé avec succès.\n",
      "Le fichier tri_2020_sig_di_85.zip a été dézippé avec succès.\n",
      "Le fichier tri_2020_sig_di_86.zip a été dézippé avec succès.\n",
      "Le fichier tri_2020_sig_di_88.zip a été dézippé avec succès.\n",
      "Le fichier tri_2020_sig_di_89.zip a été dézippé avec succès.\n",
      "Le fichier tri_2020_sig_di_90.zip a été dézippé avec succès.\n",
      "Le fichier tri_2020_sig_di_91.zip a été dézippé avec succès.\n",
      "Le fichier tri_2020_sig_di_92.zip a été dézippé avec succès.\n",
      "Le fichier tri_2020_sig_di_93.zip a été dézippé avec succès.\n",
      "Le fichier tri_2020_sig_di_94.zip a été dézippé avec succès.\n",
      "Le fichier tri_2020_sig_di_95.zip a été dézippé avec succès.\n",
      "Le fichier tri_2020_sig_di_971.zip a été dézippé avec succès.\n",
      "Le fichier tri_2020_sig_di_972.zip a été dézippé avec succès.\n",
      "Le fichier tri_2020_sig_di_973.zip a été dézippé avec succès.\n",
      "Le fichier tri_2020_sig_di_974.zip a été dézippé avec succès.\n",
      "Le fichier tri_2020_sig_di_976.zip a été dézippé avec succès.\n"
     ]
    }
   ],
   "source": [
    "\n",
    "\n",
    "# Spécifiez le chemin du dossier contenant les fichiers ZIP à dézipper\n",
    "dossier_x = r\"C:\\Users\\ezano\\Downloads\\DEP\"\n",
    "# Specifiez le chemin du dossier où vous souhaitez extraire les fichiers ZIP\n",
    "dossier_extraction = r\"C:\\Users\\ezano\\Downloads\\unzip\"\n",
    "def dezipp(dossier_x,dossier_extraction): \n",
    "    # Parcourez tous les fichiers du dossier x\n",
    "    for fichier in os.listdir(dossier_x):\n",
    "        chemin_fichier = os.path.join(dossier_x, fichier)\n",
    "\n",
    "        # Vérifiez si le fichier est un fichier ZIP\n",
    "        if zipfile.is_zipfile(chemin_fichier):\n",
    "            # Créez un objet ZipFile pour le fichier ZIP\n",
    "            with zipfile.ZipFile(chemin_fichier, 'r') as zip_ref:\n",
    "                # Extrait tous les fichiers du ZIP dans le dossier d'extraction\n",
    "                zip_ref.extractall(dossier_extraction)\n",
    "\n",
    "            print(f\"Le fichier {fichier} a été dézippé avec succès.\")\n",
    "\n",
    "\n",
    "\n"
   ]
  },
  {
   "cell_type": "code",
   "execution_count": null,
   "id": "dfee1fef",
   "metadata": {},
   "outputs": [],
   "source": [
    "def teléchargement(liste_dep,url,nom_dossier):\n",
    "    # Assurez-vous que le dossier de téléchargement existe\n",
    "    path_ = os.getcwd()\n",
    "    dossier_telechargement = os.path.join(path_,fr\"telechargements\\{nom_dossier}\")\n",
    "    dossier_extraction = os.path.join(path_,fr\"extractions\\{nom_dossier}\")\n",
    "    os.makedirs(dossier_telechargement, exist_ok=True)\n",
    "    # Assurez-vous que le dossier d'extraction existe\n",
    "    os.makedirs(dossier_extraction, exist_ok=True)\n",
    "\n",
    "    for dep_ in liste_dep:\n",
    "        try:\n",
    "            # Utilisez l'URL passée en paramètre au lieu de la définir à l'intérieur de la boucle\n",
    "            url_ = url.format(dep_)\n",
    "\n",
    "            # Spécifiez le chemin complet du dossier zippé à déplacer\n",
    "            nom_fichier = os.path.basename(url_)\n",
    "            dossier_extraction = os.path.join(path_,fr\"extractions\\{nom_dossier}\\{nom_fichier}\")\n",
    "            print(nom_fichier)\n",
    "            chemin_zip_local = os.path.join(dossier_telechargement, nom_fichier)\n",
    "            time.sleep(10)\n",
    "\n",
    "            reponse = requests.get(url_,verify=False)\n",
    "\n",
    "            try : \n",
    "                # Enregistrez le fichier ZIP téléchargé\n",
    "                with open(chemin_zip_local, 'wb') as fichier:\n",
    "                    fichier.write(reponse.content)\n",
    "\n",
    "                print(f\"Fichier ZIP téléchargé à : {chemin_zip_local}\")\n",
    "\n",
    "                # Décompressez le fichier ZIP\n",
    "                with zipfile.ZipFile(chemin_zip_local, 'r') as zip_ref:\n",
    "                    zip_ref.extractall(dossier_extraction)\n",
    "\n",
    "                print(f\"Fichiers extraits dans : {dossier_extraction}\")\n",
    "            except Exception as e:\n",
    "                print(f\"Échec du téléchargement du fichier ZIP. Code d'état : {reponse.status_code}\")\n",
    "        except Exception as e:\n",
    "            print(f\"Une erreur s'est produite : {e}\")\n"
   ]
  }
 ],
 "metadata": {
  "kernelspec": {
   "display_name": "Python 3",
   "language": "python",
   "name": "python3"
  },
  "language_info": {
   "codemirror_mode": {
    "name": "ipython",
    "version": 3
   },
   "file_extension": ".py",
   "mimetype": "text/x-python",
   "name": "python",
   "nbconvert_exporter": "python",
   "pygments_lexer": "ipython3",
   "version": "3.8.8"
  },
  "toc": {
   "base_numbering": 1,
   "nav_menu": {},
   "number_sections": true,
   "sideBar": true,
   "skip_h1_title": false,
   "title_cell": "Table of Contents",
   "title_sidebar": "Contents",
   "toc_cell": false,
   "toc_position": {},
   "toc_section_display": true,
   "toc_window_display": false
  }
 },
 "nbformat": 4,
 "nbformat_minor": 5
}
