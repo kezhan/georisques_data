{
 "cells": [
  {
   "cell_type": "code",
   "execution_count": 49,
   "id": "2d264495",
   "metadata": {},
   "outputs": [],
   "source": [
    "import os\n",
    "import requests\n",
    "import zipfile\n",
    "import csv\n",
    "import time"
   ]
  },
  {
   "cell_type": "markdown",
   "id": "089e01cc",
   "metadata": {},
   "source": [
    "# Liste des départements en France métropolitaine"
   ]
  },
  {
   "cell_type": "code",
   "execution_count": 7,
   "id": "7e847cf5",
   "metadata": {},
   "outputs": [],
   "source": [
    "departements_metropole = [\n",
    "    \"01\", \"02\", \"03\", \"04\", \"05\", \"06\", \"07\", \"08\", \"09\", \"10\",\n",
    "    \"11\", \"12\", \"13\", \"14\", \"15\", \"16\", \"17\", \"18\", \"19\", \"20\",\n",
    "    \"21\", \"22\", \"23\", \"24\", \"25\", \"26\", \"27\", \"28\", \"29\", \"30\",\n",
    "    \"31\", \"32\", \"33\", \"34\", \"35\", \"36\", \"37\", \"38\", \"39\", \"40\",\n",
    "    \"41\", \"42\", \"43\", \"44\", \"45\", \"46\", \"47\", \"48\", \"49\", \"50\",\n",
    "    \"51\", \"52\", \"53\", \"54\", \"55\", \"56\", \"57\", \"58\", \"59\", \"60\",\n",
    "    \"61\", \"62\", \"63\", \"64\", \"65\", \"66\", \"67\", \"68\", \"69\", \"70\",\n",
    "    \"71\", \"72\", \"73\", \"74\", \"75\", \"76\", \"77\", \"78\", \"79\", \"80\",\n",
    "    \"81\", \"82\", \"83\", \"84\", \"85\", \"86\", \"87\", \"88\", \"89\", \"90\",\n",
    "    \"91\", \"92\", \"93\", \"94\", \"95\"\n",
    "]\n",
    "\n",
    "# Liste des départements et régions d'outre-mer (DROM)\n",
    "departements_drom = [\"971\", \"972\", \"973\", \"974\", \"976\"]\n",
    "\n",
    "# Liste complète des départements\n",
    "liste_departements = departements_metropole + departements_drom\n",
    "\n",
    "annees = [\"2019\",\"2020\",\"2021\",\"2022\",\"2023\"]\n"
   ]
  },
  {
   "cell_type": "markdown",
   "id": "f31cf45a",
   "metadata": {},
   "source": [
    "# Liens fichiers csv, zip et excel à télécharger "
   ]
  },
  {
   "cell_type": "code",
   "execution_count": 46,
   "id": "a9b551e6",
   "metadata": {},
   "outputs": [],
   "source": [
    "#liste_departements\n",
    "\n",
    "url_inondation = \"https://files.georisques.fr/di_2020/tri_2020_sig_di_{0}.zip\"\n",
    "url_eolien =\"https://files.georisques.fr/bdeole/production/csv/eolien_dept{0}.zip\"\n",
    "url_inondation_par_remontee_nappes = \"https://files.georisques.fr/REMNAPPES/Dept_{0}.zip\"\n",
    "inventaire_de_cavite = \"https://www.georisques.gouv.fr/webappReport/ws/cavites/departements/{0}/fiches.csv?\"\n",
    "mvt_terrain = \"https://www.georisques.gouv.fr/webappReport/ws/mvmt/departements/{0}/fichecommunes.csv?\"\n",
    "obligation_legale_debrousaillement = \"https://files.georisques.fr/old_feu/{0}.zip\"\n",
    "zonage_inondation_2013 = \"https://files.georisques.fr/di/TRI_{0}_SIG_DI.zip\"\n",
    "zonage_inondation_2020 = \"https://files.georisques.fr/di_2020/tri_2020_sig_di_{0}.zip\"\n",
    "retrait_gonflement_argile = \"https://files.georisques.fr/argiles/AleaRG{0}_L93.zip\"\n",
    "secteurs_info_sols = \"https://mapsref.brgm.fr/wxs/georisques/georisques_dl?&service=wfs&version=2.0.0&request=getfeature&typename=classification&outputformat=csvtext&Filter=%3CFilter%3E%3CPropertyIsEqualTo%3E%3CPropertyName%3Ecode_dpt%3C/PropertyName%3E%3CLiteral%3E{0}%3C/Literal%3E%3C/PropertyIsEqualTo%3E%3C/Filter%3E\"# dep\n",
    "secteurs_sols = \"https://mapsref.brgm.fr/wxs/georisques/georisques_dl?&service=wfs&version=2.0.0&request=getfeature&typename=classification&outputformat=csvtext&Filter=%3CFilter%3E%3CPropertyIsEqualTo%3E%3CPropertyName%3Ecode_dpt%3C/PropertyName%3E%3CLiteral%3E{0}%3C/Literal%3E%3C/PropertyIsEqualTo%3E%3C/Filter%3E\"\n",
    "site_et_sols_pollues = \"https://www.georisques.gouv.fr/webappReport/ws/infosols/export/excel?codeDepartement={0}\"\n",
    "\n",
    "# liste_annee\n",
    "installation_industrielle_polluant = \"https://files.georisques.fr/irep/{0}.zip\"\n",
    "\n",
    "# télécharger manuellement car un seul fichier\n",
    "procedures_risque = \"https://files.georisques.fr/GASPAR/gaspar.zip\""
   ]
  },
  {
   "cell_type": "markdown",
   "id": "6bcd1806",
   "metadata": {},
   "source": [
    "# fonction\n",
    "\n",
    "## Note explicative : \n",
    "- la fonction téléchargement créee 2  sous- dossiers (téléchargement et extraction):\n",
    "        -le dossier téléchargement : il contient tous les dossiers au format zip\n",
    "        -le dossier extraction : il contien tous les dossiers dézippés (au format csv, shp etc.... selon le lien fourni) \n",
    "- teléchargement(liste_dep, url, nom_dossier) : \n",
    "        - url : on attribue à la fonction l'un des liens énumérés ci-dessus \n",
    "        -liste_dep : on attribue à la fonction la liste qui correspond au lien\n",
    "        - nom_dossier : on nomme le sous-dossier dans lequel, on aimerait que le fichier soit \n",
    "              - Exemple d'utilisation \n",
    "                    - liste_dep = [ \"02\", \"03\"]  \n",
    "                    - nom_dossier = \"secteurs_info_sols\"\n",
    "                    - url = secteurs_info_sols\n",
    "                    **teléchargement(liste_dep,secteurs_info_sols,nom_dossier)**\n",
    "                    \n",
    "NB : les documents seront enregistrés dans le dossier dans lequel se trouve le notebook\n"
   ]
  },
  {
   "cell_type": "code",
   "execution_count": 53,
   "id": "cbcf57c7",
   "metadata": {},
   "outputs": [],
   "source": [
    "def teléchargement(liste_dep, url, nom_dossier):\n",
    "    # proxies \n",
    "    proxies = {\n",
    "    'http': \"http://inetproxy:83\",\n",
    "    'https': \"http://inetproxy:83\"\n",
    "    }\n",
    "  \n",
    "    path_ = os.getcwd()\n",
    "    dossier_telechargement = os.path.join(path_, fr\"telechargements\\{nom_dossier}\")\n",
    "    os.makedirs(dossier_telechargement, exist_ok=True)\n",
    "\n",
    "    for dep_ in liste_dep:\n",
    "        try:\n",
    "           \n",
    "            url_ = url.format(dep_)\n",
    "            dossier_extraction = os.path.join(path_, fr\"extractions\\{nom_dossier}\\{dep_}\")\n",
    "            os.makedirs(dossier_extraction, exist_ok=True)\n",
    "          \n",
    "            nom_fichier = os.path.basename(url_)\n",
    "\n",
    "            if \"csv\" in url_:\n",
    "                chemin_csv_local = os.path.join(dossier_extraction, f\"fichier{dep_}.csv\")\n",
    "                reponse = requests.get(url_,verify=False)\n",
    "                if reponse.status_code == 200:\n",
    "                    with open(chemin_csv_local, 'wb') as fichier:\n",
    "                        fichier.write(reponse.content)\n",
    "                    print(f\"Fichier CSV téléchargé à : {chemin_csv_local}\")\n",
    "                else:\n",
    "                    print(f\"Échec du téléchargement du fichier CSV. Code d'état : {reponse.status_code}\")\n",
    "                    \n",
    "            elif  \"excel\" in url_:\n",
    "                chemin_excel_local = os.path.join(dossier_extraction, f\"fichier{dep_}.xlsx\")\n",
    "                reponse = requests.get(url_,verify=False)\n",
    "                if reponse.status_code == 200:\n",
    "                    with open(chemin_excel_local, 'wb') as fichier:\n",
    "                        fichier.write(reponse.content)\n",
    "                    print(f\"Fichier Excel téléchargé à : {chemin_excel_local}\")\n",
    "                else:\n",
    "                    print(f\"Échec du téléchargement du fichier Excel. Code d'état : {reponse.status_code}\")\n",
    "            else:\n",
    "              \n",
    "                chemin_zip_local = os.path.join(dossier_telechargement, nom_fichier)\n",
    "                time.sleep(10)\n",
    "                reponse = requests.get(url_,verify=False)\n",
    "                if reponse.status_code == 200:\n",
    "                \n",
    "                    with open(chemin_zip_local, 'wb') as fichier:\n",
    "                        fichier.write(reponse.content)\n",
    "\n",
    "                    print(f\"Fichier ZIP téléchargé à : {chemin_zip_local}\")\n",
    "\n",
    "                 \n",
    "                    with zipfile.ZipFile(chemin_zip_local, 'r') as zip_ref:\n",
    "                        zip_ref.extractall(dossier_extraction)\n",
    "\n",
    "                    print(f\"Fichiers extraits dans : {dossier_extraction}\")\n",
    "                else:\n",
    "                    print(f\"Échec du téléchargement du fichier ZIP. Code d'état : {reponse.status_code}\")\n",
    "\n",
    "        except Exception as e:\n",
    "            print(f\"Une erreur s'est produite : {e}\")"
   ]
  },
  {
   "cell_type": "code",
   "execution_count": 54,
   "id": "1542259b",
   "metadata": {},
   "outputs": [
    {
     "name": "stderr",
     "output_type": "stream",
     "text": [
      "C:\\Users\\ezano\\Anaconda3\\lib\\site-packages\\urllib3\\connectionpool.py:1013: InsecureRequestWarning: Unverified HTTPS request is being made to host 'mapsref.brgm.fr'. Adding certificate verification is strongly advised. See: https://urllib3.readthedocs.io/en/latest/advanced-usage.html#ssl-warnings\n",
      "  warnings.warn(\n"
     ]
    },
    {
     "name": "stdout",
     "output_type": "stream",
     "text": [
      "Fichier CSV téléchargé à : C:\\Users\\ezano\\Documents\\GitHub\\alerting2\\georisque\\extractions\\test\\02\\fichier02.csv\n"
     ]
    },
    {
     "name": "stderr",
     "output_type": "stream",
     "text": [
      "C:\\Users\\ezano\\Anaconda3\\lib\\site-packages\\urllib3\\connectionpool.py:1013: InsecureRequestWarning: Unverified HTTPS request is being made to host 'mapsref.brgm.fr'. Adding certificate verification is strongly advised. See: https://urllib3.readthedocs.io/en/latest/advanced-usage.html#ssl-warnings\n",
      "  warnings.warn(\n"
     ]
    },
    {
     "name": "stdout",
     "output_type": "stream",
     "text": [
      "Fichier CSV téléchargé à : C:\\Users\\ezano\\Documents\\GitHub\\alerting2\\georisque\\extractions\\test\\03\\fichier03.csv\n"
     ]
    }
   ],
   "source": [
    "# Exemple d'utilisation \n",
    "liste_dep = [ \"02\", \"03\"]  \n",
    "\n",
    "nom_dossier = \"test\"\n",
    "teléchargement(liste_dep,secteurs_info_sols,nom_dossier)"
   ]
  },
  {
   "cell_type": "code",
   "execution_count": null,
   "id": "2da381bd",
   "metadata": {},
   "outputs": [],
   "source": [
    "\n"
   ]
  }
 ],
 "metadata": {
  "kernelspec": {
   "display_name": "Python 3",
   "language": "python",
   "name": "python3"
  },
  "language_info": {
   "codemirror_mode": {
    "name": "ipython",
    "version": 3
   },
   "file_extension": ".py",
   "mimetype": "text/x-python",
   "name": "python",
   "nbconvert_exporter": "python",
   "pygments_lexer": "ipython3",
   "version": "3.8.8"
  },
  "toc": {
   "base_numbering": 1,
   "nav_menu": {},
   "number_sections": true,
   "sideBar": true,
   "skip_h1_title": false,
   "title_cell": "Table of Contents",
   "title_sidebar": "Contents",
   "toc_cell": false,
   "toc_position": {},
   "toc_section_display": true,
   "toc_window_display": true
  }
 },
 "nbformat": 4,
 "nbformat_minor": 5
}
